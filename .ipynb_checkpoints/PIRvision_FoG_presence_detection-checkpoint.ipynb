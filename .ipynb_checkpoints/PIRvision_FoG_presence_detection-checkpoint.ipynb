{
 "cells": [
  {
   "cell_type": "code",
   "execution_count": 13,
   "id": "8f1f31f1",
   "metadata": {},
   "outputs": [],
   "source": [
    "import pandas as pd\n",
    "import zipfile\n",
    "import os"
   ]
  },
  {
   "cell_type": "code",
   "execution_count": 11,
   "id": "13c10df7",
   "metadata": {},
   "outputs": [
    {
     "name": "stdout",
     "output_type": "stream",
     "text": [
      "['pirvision_office_dataset2.csv', 'pirvision_office_dataset1.csv']\n"
     ]
    }
   ],
   "source": [
    "\n",
    "zip_path = \"data/pirvision_fog_presence_detection.zip\"\n",
    "extract_dir = \"unzipped_data\"\n",
    "\n",
    "# Unzip into a folder\n",
    "with zipfile.ZipFile(zip_path, 'r') as zip_ref:\n",
    "    zip_ref.extractall(extract_dir)\n",
    "\n",
    "# List extracted files\n",
    "print(os.listdir(extract_dir))"
   ]
  },
  {
   "cell_type": "code",
   "execution_count": 21,
   "id": "5632685b",
   "metadata": {},
   "outputs": [],
   "source": [
    "df1 = pd.read_csv(\"data/unzipped_data/pirvision_office_dataset1.csv\")\n"
   ]
  },
  {
   "cell_type": "code",
   "execution_count": 22,
   "id": "349aad45",
   "metadata": {},
   "outputs": [],
   "source": [
    "df2 = pd.read_csv(\"data/unzipped_data/pirvision_office_dataset2.csv\")\n"
   ]
  },
  {
   "cell_type": "code",
   "execution_count": 23,
   "id": "c29fc421",
   "metadata": {},
   "outputs": [
    {
     "name": "stdout",
     "output_type": "stream",
     "text": [
      "Shapes: (7651, 59) (7651, 59)\n",
      "Data identical: True\n"
     ]
    }
   ],
   "source": [
    "print(\"Shapes:\", df1.shape, df2.shape)\n",
    "\n",
    "\n",
    "print(\"Data identical:\", df1.equals(df2))\n"
   ]
  },
  {
   "cell_type": "code",
   "execution_count": 25,
   "id": "e95b8f0d",
   "metadata": {},
   "outputs": [
    {
     "data": {
      "text/html": [
       "<div>\n",
       "<style scoped>\n",
       "    .dataframe tbody tr th:only-of-type {\n",
       "        vertical-align: middle;\n",
       "    }\n",
       "\n",
       "    .dataframe tbody tr th {\n",
       "        vertical-align: top;\n",
       "    }\n",
       "\n",
       "    .dataframe thead th {\n",
       "        text-align: right;\n",
       "    }\n",
       "</style>\n",
       "<table border=\"1\" class=\"dataframe\">\n",
       "  <thead>\n",
       "    <tr style=\"text-align: right;\">\n",
       "      <th></th>\n",
       "      <th>Date</th>\n",
       "      <th>Time</th>\n",
       "      <th>Label</th>\n",
       "      <th>Temperature_F</th>\n",
       "      <th>PIR_1</th>\n",
       "      <th>PIR_2</th>\n",
       "      <th>PIR_3</th>\n",
       "      <th>PIR_4</th>\n",
       "      <th>PIR_5</th>\n",
       "      <th>PIR_6</th>\n",
       "      <th>...</th>\n",
       "      <th>PIR_46</th>\n",
       "      <th>PIR_47</th>\n",
       "      <th>PIR_48</th>\n",
       "      <th>PIR_49</th>\n",
       "      <th>PIR_50</th>\n",
       "      <th>PIR_51</th>\n",
       "      <th>PIR_52</th>\n",
       "      <th>PIR_53</th>\n",
       "      <th>PIR_54</th>\n",
       "      <th>PIR_55</th>\n",
       "    </tr>\n",
       "  </thead>\n",
       "  <tbody>\n",
       "    <tr>\n",
       "      <th>0</th>\n",
       "      <td>2024-08-08</td>\n",
       "      <td>19:19:56</td>\n",
       "      <td>0</td>\n",
       "      <td>86</td>\n",
       "      <td>10269</td>\n",
       "      <td>10721</td>\n",
       "      <td>11156</td>\n",
       "      <td>11170</td>\n",
       "      <td>10931</td>\n",
       "      <td>10671</td>\n",
       "      <td>...</td>\n",
       "      <td>11178</td>\n",
       "      <td>11197</td>\n",
       "      <td>11161</td>\n",
       "      <td>11096</td>\n",
       "      <td>10957</td>\n",
       "      <td>10839</td>\n",
       "      <td>10735</td>\n",
       "      <td>10590</td>\n",
       "      <td>10411</td>\n",
       "      <td>10329</td>\n",
       "    </tr>\n",
       "    <tr>\n",
       "      <th>1</th>\n",
       "      <td>2024-08-08</td>\n",
       "      <td>19:20:12</td>\n",
       "      <td>1</td>\n",
       "      <td>86</td>\n",
       "      <td>10364</td>\n",
       "      <td>10907</td>\n",
       "      <td>11299</td>\n",
       "      <td>11238</td>\n",
       "      <td>10867</td>\n",
       "      <td>10535</td>\n",
       "      <td>...</td>\n",
       "      <td>11122</td>\n",
       "      <td>11145</td>\n",
       "      <td>11136</td>\n",
       "      <td>11108</td>\n",
       "      <td>11041</td>\n",
       "      <td>10824</td>\n",
       "      <td>10645</td>\n",
       "      <td>10493</td>\n",
       "      <td>10398</td>\n",
       "      <td>10357</td>\n",
       "    </tr>\n",
       "    <tr>\n",
       "      <th>2</th>\n",
       "      <td>2024-08-08</td>\n",
       "      <td>19:20:28</td>\n",
       "      <td>0</td>\n",
       "      <td>86</td>\n",
       "      <td>10329</td>\n",
       "      <td>10793</td>\n",
       "      <td>11197</td>\n",
       "      <td>11242</td>\n",
       "      <td>11052</td>\n",
       "      <td>10658</td>\n",
       "      <td>...</td>\n",
       "      <td>11168</td>\n",
       "      <td>11204</td>\n",
       "      <td>11162</td>\n",
       "      <td>11109</td>\n",
       "      <td>11007</td>\n",
       "      <td>10867</td>\n",
       "      <td>10700</td>\n",
       "      <td>10533</td>\n",
       "      <td>10427</td>\n",
       "      <td>10265</td>\n",
       "    </tr>\n",
       "    <tr>\n",
       "      <th>3</th>\n",
       "      <td>2024-08-08</td>\n",
       "      <td>19:20:44</td>\n",
       "      <td>0</td>\n",
       "      <td>86</td>\n",
       "      <td>10169</td>\n",
       "      <td>10425</td>\n",
       "      <td>10822</td>\n",
       "      <td>11133</td>\n",
       "      <td>11136</td>\n",
       "      <td>10834</td>\n",
       "      <td>...</td>\n",
       "      <td>11116</td>\n",
       "      <td>11273</td>\n",
       "      <td>11186</td>\n",
       "      <td>10984</td>\n",
       "      <td>10910</td>\n",
       "      <td>10807</td>\n",
       "      <td>10714</td>\n",
       "      <td>10651</td>\n",
       "      <td>10562</td>\n",
       "      <td>10463</td>\n",
       "    </tr>\n",
       "    <tr>\n",
       "      <th>4</th>\n",
       "      <td>2024-08-08</td>\n",
       "      <td>19:21:00</td>\n",
       "      <td>0</td>\n",
       "      <td>86</td>\n",
       "      <td>10320</td>\n",
       "      <td>10667</td>\n",
       "      <td>11104</td>\n",
       "      <td>11234</td>\n",
       "      <td>11129</td>\n",
       "      <td>10814</td>\n",
       "      <td>...</td>\n",
       "      <td>11006</td>\n",
       "      <td>11257</td>\n",
       "      <td>11370</td>\n",
       "      <td>11173</td>\n",
       "      <td>10924</td>\n",
       "      <td>10816</td>\n",
       "      <td>10754</td>\n",
       "      <td>10588</td>\n",
       "      <td>10428</td>\n",
       "      <td>10407</td>\n",
       "    </tr>\n",
       "  </tbody>\n",
       "</table>\n",
       "<p>5 rows × 59 columns</p>\n",
       "</div>"
      ],
      "text/plain": [
       "         Date      Time  Label  Temperature_F  PIR_1  PIR_2  PIR_3  PIR_4  \\\n",
       "0  2024-08-08  19:19:56      0             86  10269  10721  11156  11170   \n",
       "1  2024-08-08  19:20:12      1             86  10364  10907  11299  11238   \n",
       "2  2024-08-08  19:20:28      0             86  10329  10793  11197  11242   \n",
       "3  2024-08-08  19:20:44      0             86  10169  10425  10822  11133   \n",
       "4  2024-08-08  19:21:00      0             86  10320  10667  11104  11234   \n",
       "\n",
       "   PIR_5  PIR_6  ...  PIR_46  PIR_47  PIR_48  PIR_49  PIR_50  PIR_51  PIR_52  \\\n",
       "0  10931  10671  ...   11178   11197   11161   11096   10957   10839   10735   \n",
       "1  10867  10535  ...   11122   11145   11136   11108   11041   10824   10645   \n",
       "2  11052  10658  ...   11168   11204   11162   11109   11007   10867   10700   \n",
       "3  11136  10834  ...   11116   11273   11186   10984   10910   10807   10714   \n",
       "4  11129  10814  ...   11006   11257   11370   11173   10924   10816   10754   \n",
       "\n",
       "   PIR_53  PIR_54  PIR_55  \n",
       "0   10590   10411   10329  \n",
       "1   10493   10398   10357  \n",
       "2   10533   10427   10265  \n",
       "3   10651   10562   10463  \n",
       "4   10588   10428   10407  \n",
       "\n",
       "[5 rows x 59 columns]"
      ]
     },
     "execution_count": 25,
     "metadata": {},
     "output_type": "execute_result"
    }
   ],
   "source": [
    "df2.head()"
   ]
  },
  {
   "cell_type": "code",
   "execution_count": 27,
   "id": "50bd58dd",
   "metadata": {},
   "outputs": [
    {
     "data": {
      "text/plain": [
       "count    7651.000000\n",
       "mean        0.332767\n",
       "std         0.818477\n",
       "min         0.000000\n",
       "25%         0.000000\n",
       "50%         0.000000\n",
       "75%         0.000000\n",
       "max         3.000000\n",
       "Name: Label, dtype: float64"
      ]
     },
     "execution_count": 27,
     "metadata": {},
     "output_type": "execute_result"
    }
   ],
   "source": [
    "df2[\"Label\"].describe()"
   ]
  },
  {
   "cell_type": "code",
   "execution_count": 28,
   "id": "3f085a99",
   "metadata": {},
   "outputs": [
    {
     "data": {
      "text/plain": [
       "<AxesSubplot:>"
      ]
     },
     "execution_count": 28,
     "metadata": {},
     "output_type": "execute_result"
    },
    {
     "data": {
      "image/png": "[encoded data removed]",
      "text/plain": [
       "<Figure size 432x288 with 1 Axes>"
      ]
     },
     "metadata": {
      "needs_background": "light"
     },
     "output_type": "display_data"
    }
   ],
   "source": [
    "df2[\"Label\"].hist()"
   ]
  },
  {
   "cell_type": "code",
   "execution_count": null,
   "id": "58240384",
   "metadata": {},
   "outputs": [],
   "source": []
  },
  {
   "cell_type": "code",
   "execution_count": null,
   "id": "fd819ae2",
   "metadata": {},
   "outputs": [],
   "source": []
  }
 ],
 "metadata": {
  "kernelspec": {
   "display_name": "Python 3 (ipykernel)",
   "language": "python",
   "name": "python3"
  },
  "language_info": {
   "codemirror_mode": {
    "name": "ipython",
    "version": 3
   },
   "file_extension": ".py",
   "mimetype": "text/x-python",
   "name": "python",
   "nbconvert_exporter": "python",
   "pygments_lexer": "ipython3",
   "version": "3.9.7"
  }
 },
 "nbformat": 4,
 "nbformat_minor": 5
}

{
 "cells": [
  {
   "cell_type": "markdown",
   "id": "ae6cf67e",
   "metadata": {},
   "source": [
    "# PIRvision_FoG_presence_detection"
   ]
  },
  {
   "cell_type": "markdown",
   "id": "0e8f104e",
   "metadata": {},
   "source": [
    "# Exploratory Data Analysis"
   ]
  },
  {
   "cell_type": "code",
   "execution_count": 76,
   "id": "8c2de0f4",
   "metadata": {},
   "outputs": [],
   "source": [
    "import pandas as pd\n",
    "import zipfile\n",
    "import os\n",
    "import matplotlib.pyplot as plt"
   ]
  },
  {
   "cell_type": "code",
   "execution_count": 77,
   "id": "8973fc57",
   "metadata": {},
   "outputs": [
    {
     "name": "stdout",
     "output_type": "stream",
     "text": [
      "['pirvision_office_dataset2.csv', 'pirvision_office_dataset1.csv']\n"
     ]
    }
   ],
   "source": [
    "\n",
    "zip_path = \"data/pirvision_fog_presence_detection.zip\"\n",
    "extract_dir = \"unzipped_data\"\n",
    "\n",
    "# Unzip into a folder\n",
    "with zipfile.ZipFile(zip_path, 'r') as zip_ref:\n",
    "    zip_ref.extractall(extract_dir)\n",
    "\n",
    "# List extracted files\n",
    "print(os.listdir(extract_dir))"
   ]
  },
  {
   "cell_type": "code",
   "execution_count": 78,
   "id": "a19272a1",
   "metadata": {},
   "outputs": [],
   "source": [
    "df1 = pd.read_csv(\"data/unzipped_data/pirvision_office_dataset1.csv\")\n"
   ]
  },
  {
   "cell_type": "code",
   "execution_count": 79,
   "id": "27daa269",
   "metadata": {},
   "outputs": [],
   "source": [
    "df2 = pd.read_csv(\"data/unzipped_data/pirvision_office_dataset2.csv\")\n"
   ]
  },
  {
   "cell_type": "code",
   "execution_count": 80,
   "id": "902053eb",
   "metadata": {},
   "outputs": [
    {
     "name": "stdout",
     "output_type": "stream",
     "text": [
      "Shapes: (7651, 59) (7651, 59)\n",
      "Data identical: True\n"
     ]
    }
   ],
   "source": [
    "print(\"Shapes:\", df1.shape, df2.shape)\n",
    "\n",
    "\n",
    "print(\"Data identical:\", df1.equals(df2))\n"
   ]
  },
  {
   "cell_type": "code",
   "execution_count": 81,
   "id": "8c431902",
   "metadata": {},
   "outputs": [
    {
     "data": {
      "text/html": [
       "<div>\n",
       "<style scoped>\n",
       "    .dataframe tbody tr th:only-of-type {\n",
       "        vertical-align: middle;\n",
       "    }\n",
       "\n",
       "    .dataframe tbody tr th {\n",
       "        vertical-align: top;\n",
       "    }\n",
       "\n",
       "    .dataframe thead th {\n",
       "        text-align: right;\n",
       "    }\n",
       "</style>\n",
       "<table border=\"1\" class=\"dataframe\">\n",
       "  <thead>\n",
       "    <tr style=\"text-align: right;\">\n",
       "      <th></th>\n",
       "      <th>Date</th>\n",
       "      <th>Time</th>\n",
       "      <th>Label</th>\n",
       "      <th>Temperature_F</th>\n",
       "      <th>PIR_1</th>\n",
       "      <th>PIR_2</th>\n",
       "      <th>PIR_3</th>\n",
       "      <th>PIR_4</th>\n",
       "      <th>PIR_5</th>\n",
       "      <th>PIR_6</th>\n",
       "      <th>...</th>\n",
       "      <th>PIR_46</th>\n",
       "      <th>PIR_47</th>\n",
       "      <th>PIR_48</th>\n",
       "      <th>PIR_49</th>\n",
       "      <th>PIR_50</th>\n",
       "      <th>PIR_51</th>\n",
       "      <th>PIR_52</th>\n",
       "      <th>PIR_53</th>\n",
       "      <th>PIR_54</th>\n",
       "      <th>PIR_55</th>\n",
       "    </tr>\n",
       "  </thead>\n",
       "  <tbody>\n",
       "    <tr>\n",
       "      <th>0</th>\n",
       "      <td>2024-08-08</td>\n",
       "      <td>19:19:56</td>\n",
       "      <td>0</td>\n",
       "      <td>86</td>\n",
       "      <td>10269</td>\n",
       "      <td>10721</td>\n",
       "      <td>11156</td>\n",
       "      <td>11170</td>\n",
       "      <td>10931</td>\n",
       "      <td>10671</td>\n",
       "      <td>...</td>\n",
       "      <td>11178</td>\n",
       "      <td>11197</td>\n",
       "      <td>11161</td>\n",
       "      <td>11096</td>\n",
       "      <td>10957</td>\n",
       "      <td>10839</td>\n",
       "      <td>10735</td>\n",
       "      <td>10590</td>\n",
       "      <td>10411</td>\n",
       "      <td>10329</td>\n",
       "    </tr>\n",
       "    <tr>\n",
       "      <th>1</th>\n",
       "      <td>2024-08-08</td>\n",
       "      <td>19:20:12</td>\n",
       "      <td>1</td>\n",
       "      <td>86</td>\n",
       "      <td>10364</td>\n",
       "      <td>10907</td>\n",
       "      <td>11299</td>\n",
       "      <td>11238</td>\n",
       "      <td>10867</td>\n",
       "      <td>10535</td>\n",
       "      <td>...</td>\n",
       "      <td>11122</td>\n",
       "      <td>11145</td>\n",
       "      <td>11136</td>\n",
       "      <td>11108</td>\n",
       "      <td>11041</td>\n",
       "      <td>10824</td>\n",
       "      <td>10645</td>\n",
       "      <td>10493</td>\n",
       "      <td>10398</td>\n",
       "      <td>10357</td>\n",
       "    </tr>\n",
       "    <tr>\n",
       "      <th>2</th>\n",
       "      <td>2024-08-08</td>\n",
       "      <td>19:20:28</td>\n",
       "      <td>0</td>\n",
       "      <td>86</td>\n",
       "      <td>10329</td>\n",
       "      <td>10793</td>\n",
       "      <td>11197</td>\n",
       "      <td>11242</td>\n",
       "      <td>11052</td>\n",
       "      <td>10658</td>\n",
       "      <td>...</td>\n",
       "      <td>11168</td>\n",
       "      <td>11204</td>\n",
       "      <td>11162</td>\n",
       "      <td>11109</td>\n",
       "      <td>11007</td>\n",
       "      <td>10867</td>\n",
       "      <td>10700</td>\n",
       "      <td>10533</td>\n",
       "      <td>10427</td>\n",
       "      <td>10265</td>\n",
       "    </tr>\n",
       "    <tr>\n",
       "      <th>3</th>\n",
       "      <td>2024-08-08</td>\n",
       "      <td>19:20:44</td>\n",
       "      <td>0</td>\n",
       "      <td>86</td>\n",
       "      <td>10169</td>\n",
       "      <td>10425</td>\n",
       "      <td>10822</td>\n",
       "      <td>11133</td>\n",
       "      <td>11136</td>\n",
       "      <td>10834</td>\n",
       "      <td>...</td>\n",
       "      <td>11116</td>\n",
       "      <td>11273</td>\n",
       "      <td>11186</td>\n",
       "      <td>10984</td>\n",
       "      <td>10910</td>\n",
       "      <td>10807</td>\n",
       "      <td>10714</td>\n",
       "      <td>10651</td>\n",
       "      <td>10562</td>\n",
       "      <td>10463</td>\n",
       "    </tr>\n",
       "    <tr>\n",
       "      <th>4</th>\n",
       "      <td>2024-08-08</td>\n",
       "      <td>19:21:00</td>\n",
       "      <td>0</td>\n",
       "      <td>86</td>\n",
       "      <td>10320</td>\n",
       "      <td>10667</td>\n",
       "      <td>11104</td>\n",
       "      <td>11234</td>\n",
       "      <td>11129</td>\n",
       "      <td>10814</td>\n",
       "      <td>...</td>\n",
       "      <td>11006</td>\n",
       "      <td>11257</td>\n",
       "      <td>11370</td>\n",
       "      <td>11173</td>\n",
       "      <td>10924</td>\n",
       "      <td>10816</td>\n",
       "      <td>10754</td>\n",
       "      <td>10588</td>\n",
       "      <td>10428</td>\n",
       "      <td>10407</td>\n",
       "    </tr>\n",
       "  </tbody>\n",
       "</table>\n",
       "<p>5 rows × 59 columns</p>\n",
       "</div>"
      ],
      "text/plain": [
       "         Date      Time  Label  Temperature_F  PIR_1  PIR_2  PIR_3  PIR_4  \\\n",
       "0  2024-08-08  19:19:56      0             86  10269  10721  11156  11170   \n",
       "1  2024-08-08  19:20:12      1             86  10364  10907  11299  11238   \n",
       "2  2024-08-08  19:20:28      0             86  10329  10793  11197  11242   \n",
       "3  2024-08-08  19:20:44      0             86  10169  10425  10822  11133   \n",
       "4  2024-08-08  19:21:00      0             86  10320  10667  11104  11234   \n",
       "\n",
       "   PIR_5  PIR_6  ...  PIR_46  PIR_47  PIR_48  PIR_49  PIR_50  PIR_51  PIR_52  \\\n",
       "0  10931  10671  ...   11178   11197   11161   11096   10957   10839   10735   \n",
       "1  10867  10535  ...   11122   11145   11136   11108   11041   10824   10645   \n",
       "2  11052  10658  ...   11168   11204   11162   11109   11007   10867   10700   \n",
       "3  11136  10834  ...   11116   11273   11186   10984   10910   10807   10714   \n",
       "4  11129  10814  ...   11006   11257   11370   11173   10924   10816   10754   \n",
       "\n",
       "   PIR_53  PIR_54  PIR_55  \n",
       "0   10590   10411   10329  \n",
       "1   10493   10398   10357  \n",
       "2   10533   10427   10265  \n",
       "3   10651   10562   10463  \n",
       "4   10588   10428   10407  \n",
       "\n",
       "[5 rows x 59 columns]"
      ]
     },
     "execution_count": 81,
     "metadata": {},
     "output_type": "execute_result"
    }
   ],
   "source": [
    "df2.head()"
   ]
  },
  {
   "cell_type": "code",
   "execution_count": 83,
   "id": "f2462c58",
   "metadata": {},
   "outputs": [
    {
     "name": "stdout",
     "output_type": "stream",
     "text": [
      "['Date', 'Time', 'Label', 'Temperature_F', 'PIR_1', 'PIR_2', 'PIR_3', 'PIR_4', 'PIR_5', 'PIR_6', 'PIR_7', 'PIR_8', 'PIR_9', 'PIR_10', 'PIR_11', 'PIR_12', 'PIR_13', 'PIR_14', 'PIR_15', 'PIR_16', 'PIR_17', 'PIR_18', 'PIR_19', 'PIR_20', 'PIR_21', 'PIR_22', 'PIR_23', 'PIR_24', 'PIR_25', 'PIR_26', 'PIR_27', 'PIR_28', 'PIR_29', 'PIR_30', 'PIR_31', 'PIR_32', 'PIR_33', 'PIR_34', 'PIR_35', 'PIR_36', 'PIR_37', 'PIR_38', 'PIR_39', 'PIR_40', 'PIR_41', 'PIR_42', 'PIR_43', 'PIR_44', 'PIR_45', 'PIR_46', 'PIR_47', 'PIR_48', 'PIR_49', 'PIR_50', 'PIR_51', 'PIR_52', 'PIR_53', 'PIR_54', 'PIR_55']\n"
     ]
    }
   ],
   "source": [
    "print(df2.columns.tolist())"
   ]
  },
  {
   "cell_type": "raw",
   "id": "1c99d7d0",
   "metadata": {},
   "source": [
    "NOTE:\n",
    "               Class Labels\n",
    "\n",
    "                0: Vacancy\n",
    "                1: Stationary human presence\n",
    "                3: Other activity/motion"
   ]
  },
  {
   "cell_type": "code",
   "execution_count": 87,
   "id": "e64ac21c",
   "metadata": {},
   "outputs": [
    {
     "name": "stdout",
     "output_type": "stream",
     "text": [
      "RangeIndex(start=0, stop=7651, step=1)\n"
     ]
    }
   ],
   "source": [
    "print(df2.index)"
   ]
  },
  {
   "cell_type": "code",
   "execution_count": 89,
   "id": "ed2f4444",
   "metadata": {},
   "outputs": [],
   "source": [
    "df2[\"Timestamp\"] = pd.to_datetime(df2[\"Date\"] + \" \" + df2[\"Time\"])\n",
    "df2 = df2.set_index(\"Timestamp\")\n"
   ]
  },
  {
   "cell_type": "code",
   "execution_count": null,
   "id": "92afaaf0",
   "metadata": {},
   "outputs": [],
   "source": []
  },
  {
   "cell_type": "code",
   "execution_count": 90,
   "id": "4f0ddd9f",
   "metadata": {},
   "outputs": [
    {
     "name": "stdout",
     "output_type": "stream",
     "text": [
      "(7651, 59)\n",
      "Date             0\n",
      "Time             0\n",
      "Label            0\n",
      "Temperature_F    0\n",
      "PIR_1            0\n",
      "PIR_2            0\n",
      "PIR_3            0\n",
      "PIR_4            0\n",
      "PIR_5            0\n",
      "PIR_6            0\n",
      "PIR_7            0\n",
      "PIR_8            0\n",
      "PIR_9            0\n",
      "PIR_10           0\n",
      "PIR_11           0\n",
      "PIR_12           0\n",
      "PIR_13           0\n",
      "PIR_14           0\n",
      "PIR_15           0\n",
      "PIR_16           0\n",
      "PIR_17           0\n",
      "PIR_18           0\n",
      "PIR_19           0\n",
      "PIR_20           0\n",
      "PIR_21           0\n",
      "PIR_22           0\n",
      "PIR_23           0\n",
      "PIR_24           0\n",
      "PIR_25           0\n",
      "PIR_26           0\n",
      "PIR_27           0\n",
      "PIR_28           0\n",
      "PIR_29           0\n",
      "PIR_30           0\n",
      "PIR_31           0\n",
      "PIR_32           0\n",
      "PIR_33           0\n",
      "PIR_34           0\n",
      "PIR_35           0\n",
      "PIR_36           0\n",
      "PIR_37           0\n",
      "PIR_38           0\n",
      "PIR_39           0\n",
      "PIR_40           0\n",
      "PIR_41           0\n",
      "PIR_42           0\n",
      "PIR_43           0\n",
      "PIR_44           0\n",
      "PIR_45           0\n",
      "PIR_46           0\n",
      "PIR_47           0\n",
      "PIR_48           0\n",
      "PIR_49           0\n",
      "PIR_50           0\n",
      "PIR_51           0\n",
      "PIR_52           0\n",
      "PIR_53           0\n",
      "PIR_54           0\n",
      "PIR_55           0\n",
      "dtype: int64\n",
      "0    0.816495\n",
      "1    0.108875\n",
      "3    0.074631\n",
      "Name: Label, dtype: float64\n"
     ]
    }
   ],
   "source": [
    "print(df2.shape)\n",
    "print(df2.isna().sum())\n",
    "print(df2[\"Label\"].value_counts(normalize=True))\n"
   ]
  },
  {
   "cell_type": "code",
   "execution_count": 91,
   "id": "9b51a68e",
   "metadata": {},
   "outputs": [
    {
     "data": {
      "text/plain": [
       "<AxesSubplot:>"
      ]
     },
     "execution_count": 91,
     "metadata": {},
     "output_type": "execute_result"
    },
    {
     "data": {
      "image/png": "[encoded data removed]",
      "text/plain": [
       "<Figure size 432x288 with 1 Axes>"
      ]
     },
     "metadata": {
      "needs_background": "light"
     },
     "output_type": "display_data"
    }
   ],
   "source": [
    "df2[\"Label\"].hist()"
   ]
  },
  {
   "cell_type": "code",
   "execution_count": null,
   "id": "f9163eab",
   "metadata": {},
   "outputs": [],
   "source": []
  },
  {
   "cell_type": "code",
   "execution_count": 92,
   "id": "769ac290",
   "metadata": {},
   "outputs": [
    {
     "data": {
      "text/plain": [
       "<AxesSubplot:>"
      ]
     },
     "execution_count": 92,
     "metadata": {},
     "output_type": "execute_result"
    },
    {
     "data": {
      "image/png": "[encoded data removed]",
      "text/plain": [
       "<Figure size 432x288 with 1 Axes>"
      ]
     },
     "metadata": {
      "needs_background": "light"
     },
     "output_type": "display_data"
    }
   ],
   "source": [
    "df2[\"Temperature_F\"].hist()"
   ]
  },
  {
   "cell_type": "code",
   "execution_count": 93,
   "id": "552134ea",
   "metadata": {},
   "outputs": [
    {
     "data": {
      "text/plain": [
       "0    6247\n",
       "1     833\n",
       "3     571\n",
       "Name: Label, dtype: int64"
      ]
     },
     "execution_count": 93,
     "metadata": {},
     "output_type": "execute_result"
    }
   ],
   "source": [
    "df2[\"Label\"].value_counts()\n",
    "\n"
   ]
  },
  {
   "cell_type": "code",
   "execution_count": 94,
   "id": "5011feee",
   "metadata": {},
   "outputs": [
    {
     "data": {
      "text/plain": [
       "array([[<AxesSubplot:title={'center':'PIR_1'}>,\n",
       "        <AxesSubplot:title={'center':'PIR_38'}>],\n",
       "       [<AxesSubplot:title={'center':'PIR_38'}>, <AxesSubplot:>]],\n",
       "      dtype=object)"
      ]
     },
     "execution_count": 94,
     "metadata": {},
     "output_type": "execute_result"
    },
    {
     "data": {
      "image/png": "[encoded data removed]",
      "text/plain": [
       "<Figure size 432x288 with 4 Axes>"
      ]
     },
     "metadata": {
      "needs_background": "light"
     },
     "output_type": "display_data"
    }
   ],
   "source": [
    "df2[['PIR_1', \"PIR_38\", \"PIR_38\"]].hist()"
   ]
  },
  {
   "cell_type": "code",
   "execution_count": 95,
   "id": "4cc95e3a",
   "metadata": {},
   "outputs": [
    {
     "data": {
      "text/plain": [
       "<AxesSubplot:xlabel='Label', ylabel='PIR_13'>"
      ]
     },
     "execution_count": 95,
     "metadata": {},
     "output_type": "execute_result"
    },
    {
     "data": {
      "image/png": "[encoded data removed]",
      "text/plain": [
       "<Figure size 432x288 with 1 Axes>"
      ]
     },
     "metadata": {
      "needs_background": "light"
     },
     "output_type": "display_data"
    }
   ],
   "source": [
    "df2.plot(kind=\"scatter\", x='Label', y=\"PIR_13\")"
   ]
  },
  {
   "cell_type": "code",
   "execution_count": 96,
   "id": "c2bbfc3c",
   "metadata": {},
   "outputs": [
    {
     "data": {
      "image/png": "[encoded data removed]",
      "text/plain": [
       "<Figure size 864x288 with 1 Axes>"
      ]
     },
     "metadata": {
      "needs_background": "light"
     },
     "output_type": "display_data"
    }
   ],
   "source": [
    "#overall occupancy trend\n",
    "\n",
    "\n",
    "df2[\"Label\"].resample(\"H\").mean().plot(figsize=(12,4))\n",
    "plt.title(\"Hourly Occupancy Probability\")\n",
    "plt.ylabel(\"Occupancy (0–1)\")\n",
    "plt.show()\n"
   ]
  },
  {
   "cell_type": "raw",
   "id": "5793aa51",
   "metadata": {},
   "source": [
    "    NOTE: Only one spike at Sept 9th\n",
    "\n",
    "    This could means:\n",
    "\n",
    "    The data might have NaNs after resampling (gaps in the timeline).\n",
    "\n",
    "    Or the time index is correct, but we only have real occupancy activity around Sept 9th.\n",
    "\n",
    "    Or matplotlib is plotting a line but it looks like a single spike because the rest are missing"
   ]
  },
  {
   "cell_type": "code",
   "execution_count": 97,
   "id": "1822f334",
   "metadata": {},
   "outputs": [
    {
     "data": {
      "text/plain": [
       "Timestamp\n",
       "2024-08-08 19:00:00    1.312849\n",
       "2024-08-08 20:00:00    0.444444\n",
       "2024-08-08 21:00:00    0.000000\n",
       "2024-08-08 22:00:00    0.000000\n",
       "2024-08-08 23:00:00    0.000000\n",
       "                         ...   \n",
       "2024-10-08 00:00:00    0.000000\n",
       "2024-10-08 01:00:00    0.000000\n",
       "2024-10-08 02:00:00    0.000000\n",
       "2024-10-08 03:00:00    0.000000\n",
       "2024-10-08 04:00:00    0.000000\n",
       "Freq: H, Name: Label, Length: 1450, dtype: float64"
      ]
     },
     "execution_count": 97,
     "metadata": {},
     "output_type": "execute_result"
    }
   ],
   "source": [
    "df2[\"Label\"].resample(\"H\").mean()"
   ]
  },
  {
   "cell_type": "code",
   "execution_count": 139,
   "id": "39ddd9ee",
   "metadata": {},
   "outputs": [],
   "source": [
    "df2 = df2.sort_index()\n"
   ]
  },
  {
   "cell_type": "code",
   "execution_count": 99,
   "id": "0d8909a6",
   "metadata": {},
   "outputs": [
    {
     "name": "stdout",
     "output_type": "stream",
     "text": [
      "16992\n",
      "Timestamp\n",
      "2024-08-08 19:15:00    0.000000\n",
      "2024-08-08 19:20:00    0.055556\n",
      "2024-08-08 19:25:00    0.000000\n",
      "2024-08-08 19:30:00    0.000000\n",
      "2024-08-08 19:35:00    1.500000\n",
      "2024-08-08 19:40:00    2.760000\n",
      "2024-08-08 19:45:00    1.000000\n",
      "2024-08-08 19:50:00    1.000000\n",
      "2024-08-08 19:55:00    2.866667\n",
      "2024-08-08 20:00:00    2.791667\n",
      "2024-08-08 20:05:00    1.636364\n",
      "2024-08-08 20:10:00    0.000000\n",
      "2024-08-08 20:15:00    0.000000\n",
      "2024-08-08 20:20:00    0.000000\n",
      "2024-08-08 20:25:00    0.000000\n",
      "2024-08-08 20:30:00    0.000000\n",
      "2024-08-08 20:35:00    0.000000\n",
      "2024-08-08 20:40:00    0.055556\n",
      "2024-08-08 20:45:00    0.000000\n",
      "2024-08-08 20:50:00    0.000000\n",
      "Freq: 5T, Name: Label, dtype: float64\n"
     ]
    }
   ],
   "source": [
    "occ_resampled = df2[\"Label\"].resample(\"5T\").mean()\n",
    "print(occ_resampled.isna().sum())   # how many NaNs?\n",
    "print(occ_resampled.head(20))       # first few values\n"
   ]
  },
  {
   "cell_type": "raw",
   "id": "61fa55aa",
   "metadata": {},
   "source": [
    "NOTE:Label column isn’t really 0/1, it looks numeric but actually has values larger than 1."
   ]
  },
  {
   "cell_type": "code",
   "execution_count": 102,
   "id": "bfc4d792",
   "metadata": {},
   "outputs": [
    {
     "name": "stdout",
     "output_type": "stream",
     "text": [
      "[0 1 3]\n"
     ]
    }
   ],
   "source": [
    "print(df2[\"Label\"].unique()[:20])\n"
   ]
  },
  {
   "cell_type": "code",
   "execution_count": 104,
   "id": "d5033248",
   "metadata": {},
   "outputs": [
    {
     "data": {
      "image/png": "[encoded data removed]",
      "text/plain": [
       "<Figure size 864x288 with 1 Axes>"
      ]
     },
     "metadata": {
      "needs_background": "light"
     },
     "output_type": "display_data"
    }
   ],
   "source": [
    "import matplotlib.pyplot as plt\n",
    "\n",
    "df2[\"Label\"].resample(\"H\").mean().plot(figsize=(12,4))\n",
    "plt.title(\"Hourly Occupancy Probability\")\n",
    "plt.ylabel(\"Occupancy (0–1)\")\n",
    "plt.show()\n"
   ]
  },
  {
   "cell_type": "code",
   "execution_count": 115,
   "id": "b156baf5",
   "metadata": {},
   "outputs": [
    {
     "data": {
      "image/png": "[encoded data removed]",
      "text/plain": [
       "<Figure size 864x288 with 1 Axes>"
      ]
     },
     "metadata": {
      "needs_background": "light"
     },
     "output_type": "display_data"
    }
   ],
   "source": [
    "df2[\"Label\"].resample(\"5T\").mean().plot(figsize=(12,4))\n",
    "plt.title(\"Occupancy Probability (5-min average)\")\n",
    "plt.ylabel(\"Occupancy Rate\")\n",
    "plt.show()\n"
   ]
  },
  {
   "cell_type": "code",
   "execution_count": 120,
   "id": "d6d57622",
   "metadata": {},
   "outputs": [
    {
     "name": "stdout",
     "output_type": "stream",
     "text": [
      "Timestamp\n",
      "2024-08-08 19:19:56    True\n",
      "2024-08-08 19:20:12    True\n",
      "2024-08-08 19:20:28    True\n",
      "2024-08-08 19:20:44    True\n",
      "2024-08-08 19:21:00    True\n",
      "                       ... \n",
      "2024-10-08 04:34:17    True\n",
      "2024-10-08 04:34:33    True\n",
      "2024-10-08 04:34:49    True\n",
      "2024-10-08 04:35:05    True\n",
      "2024-10-08 04:35:21    True\n",
      "Name: Label, Length: 7651, dtype: bool\n"
     ]
    }
   ],
   "source": [
    "print(df2[\"Label\"] == df2[\"Label\"].astype(int))\n"
   ]
  },
  {
   "cell_type": "code",
   "execution_count": 140,
   "id": "9f8371b0",
   "metadata": {},
   "outputs": [
    {
     "name": "stdout",
     "output_type": "stream",
     "text": [
      "Timestamp\n",
      "2024-08-08 19:15:00    0.000000\n",
      "2024-08-08 19:20:00    0.055556\n",
      "2024-08-08 19:25:00    0.000000\n",
      "2024-08-08 19:30:00    0.000000\n",
      "2024-08-08 19:35:00    1.500000\n",
      "Freq: 5T, Name: Label, dtype: float64\n"
     ]
    }
   ],
   "source": [
    "occ_resampled = df2[\"Label\"].resample(\"5T\").mean()\n",
    "print(occ_resampled.head(5))\n"
   ]
  },
  {
   "cell_type": "code",
   "execution_count": 123,
   "id": "6009e504",
   "metadata": {},
   "outputs": [
    {
     "name": "stdout",
     "output_type": "stream",
     "text": [
      "[0 1 3]\n",
      "                           Date      Time  Label\n",
      "Timestamp                                       \n",
      "2024-08-08 19:19:56  2024-08-08  19:19:56      0\n",
      "2024-08-08 19:20:12  2024-08-08  19:20:12      1\n",
      "2024-08-08 19:20:28  2024-08-08  19:20:28      0\n",
      "2024-08-08 19:20:44  2024-08-08  19:20:44      0\n",
      "2024-08-08 19:21:00  2024-08-08  19:21:00      0\n",
      "2024-08-08 19:21:16  2024-08-08  19:21:16      0\n",
      "2024-08-08 19:21:32  2024-08-08  19:21:32      0\n",
      "2024-08-08 19:21:48  2024-08-08  19:21:48      0\n",
      "2024-08-08 19:22:04  2024-08-08  19:22:04      0\n",
      "2024-08-08 19:22:20  2024-08-08  19:22:20      0\n"
     ]
    }
   ],
   "source": [
    "print(df2[\"Label\"].unique()[:20])\n",
    "print(df2[[\"Date\",\"Time\",\"Label\"]].head(10))\n"
   ]
  },
  {
   "cell_type": "code",
   "execution_count": 124,
   "id": "42d2eb4c",
   "metadata": {},
   "outputs": [
    {
     "name": "stdout",
     "output_type": "stream",
     "text": [
      "                           Date      Time  Label\n",
      "Timestamp                                       \n",
      "2024-08-08 19:19:56  2024-08-08  19:19:56      0\n",
      "2024-08-08 19:20:12  2024-08-08  19:20:12      1\n",
      "2024-08-08 19:20:28  2024-08-08  19:20:28      0\n",
      "2024-08-08 19:20:44  2024-08-08  19:20:44      0\n",
      "2024-08-08 19:21:00  2024-08-08  19:21:00      0\n",
      "2024-08-08 19:21:16  2024-08-08  19:21:16      0\n",
      "2024-08-08 19:21:32  2024-08-08  19:21:32      0\n",
      "2024-08-08 19:21:48  2024-08-08  19:21:48      0\n",
      "2024-08-08 19:22:04  2024-08-08  19:22:04      0\n",
      "2024-08-08 19:22:20  2024-08-08  19:22:20      0\n"
     ]
    }
   ],
   "source": [
    "print(df2[[\"Date\",\"Time\",\"Label\"]].head(10))\n"
   ]
  },
  {
   "cell_type": "code",
   "execution_count": 125,
   "id": "7480354a",
   "metadata": {},
   "outputs": [
    {
     "name": "stdout",
     "output_type": "stream",
     "text": [
      "2024-08-08 19:19:56 to 2024-10-08 04:35:21\n",
      "Total rows: 7651\n"
     ]
    }
   ],
   "source": [
    "print(df2.index.min(), \"to\", df2.index.max())\n",
    "print(\"Total rows:\", len(df2))\n"
   ]
  },
  {
   "cell_type": "code",
   "execution_count": null,
   "id": "1a3e7f0d",
   "metadata": {},
   "outputs": [],
   "source": [
    "NOTE: Date range: ~ 2 months (Aug 8 → Oct 8).\n",
    "\n",
    "    Total rows: 7,651 observations.\n",
    "\n",
    "    Expected rows if continuous logging (4s resolution):\n",
    "\n",
    "    2 month*30 days*24 hours * 60 min * 15 (4s per min)≈648,000 2 months×30 days×24 hours×60 min×15 (4s per min)≈648,000\n",
    "\n",
    "    We've only have ~1% of expected rows.\n",
    "    \n",
    "    \n",
    "What this means:\n",
    "\n",
    "The data was not logged continuously.\n",
    "\n",
    "Likely the sensor was only recording when triggered (movement detected), or logging was scheduled/filtered.\n",
    "\n",
    "That’s why resampling created lots of NaNs (16,992 empty bins) — there are big gaps."
   ]
  },
  {
   "cell_type": "code",
   "execution_count": 126,
   "id": "c9171ad1",
   "metadata": {},
   "outputs": [
    {
     "data": {
      "text/plain": [
       "0 days 00:00:16    6922\n",
       "0 days 00:00:17     214\n",
       "0 days 00:00:15     199\n",
       "0 days 00:00:06     145\n",
       "0 days 00:00:05      73\n",
       "0 days 00:00:10      48\n",
       "0 days 00:00:11      16\n",
       "0 days 00:00:09       9\n",
       "0 days 00:00:07       4\n",
       "0 days 00:00:32       4\n",
       "Name: Timestamp, dtype: int64"
      ]
     },
     "execution_count": 126,
     "metadata": {},
     "output_type": "execute_result"
    }
   ],
   "source": [
    "#Checking for gaps in the data\n",
    "\n",
    "df2.index.to_series().diff().value_counts().head(10)\n"
   ]
  },
  {
   "cell_type": "code",
   "execution_count": null,
   "id": "924b39eb",
   "metadata": {},
   "outputs": [],
   "source": [
    "NOTE: The time gaps between consecutive rows:\n",
    "\n",
    "    The most common gap = 16 seconds (6,922 times)\n",
    "\n",
    "    Then 17s (214), 15s (199), 6s (145), etc.\n",
    "    \n",
    "The dataset is not truly 4-second resolution, even though the documentation says “4 seconds per observation.”\n",
    "\n",
    "Instead, it looks like the logger aggregated multiple 4-second windows or only wrote rows every ~15–17 seconds.\n",
    "\n",
    "The small variations (15, 16, 17s) suggest either:\n",
    "\n",
    "        Buffering delays in the logger, or\n",
    "\n",
    "        Dropped packets if this was streamed.\n",
    "\n",
    "So the effective resolution = ~16 seconds per sample, not 4s."
   ]
  },
  {
   "cell_type": "code",
   "execution_count": null,
   "id": "9be748a3",
   "metadata": {},
   "outputs": [],
   "source": [
    "What this means for EDA\n",
    "\n",
    "Your total rows (7,651) now make sense:\n",
    "\n",
    "2 months ≈ 60 × 24 × 3600 / 16 ≈ 324, 000 expected if continuous \n",
    "\n",
    "But we only have 7.6k rows -> still sparse.\n",
    "\n",
    "When resampling (e.g., to 5 min), we’ll see NaNs because there are gaps larger than 5 minutes.\n",
    "\n",
    "We should not assume continuous occupancy data. Instead, treat it as event-based, irregular samples."
   ]
  },
  {
   "cell_type": "code",
   "execution_count": 127,
   "id": "4a818ea7",
   "metadata": {},
   "outputs": [
    {
     "name": "stdout",
     "output_type": "stream",
     "text": [
      "Timestamp\n",
      "2024-09-08 00:00:02   30 days 00:00:16\n",
      "2024-10-08 00:00:02   29 days 00:00:16\n",
      "2024-09-08 10:35:12    0 days 00:00:32\n",
      "2024-09-08 22:19:44    0 days 00:00:32\n",
      "2024-08-08 22:50:40    0 days 00:00:32\n",
      "2024-09-08 21:15:43    0 days 00:00:32\n",
      "2024-09-08 09:30:59    0 days 00:00:20\n",
      "2024-08-08 21:46:26    0 days 00:00:19\n",
      "2024-09-08 20:11:28    0 days 00:00:19\n",
      "2024-08-08 20:42:23    0 days 00:00:18\n",
      "Name: Timestamp, dtype: timedelta64[ns]\n"
     ]
    }
   ],
   "source": [
    "#Check for gaps larger than 1 hour (to see if whole days are missing)\n",
    "long_gaps = df2.index.to_series().diff().sort_values(ascending=False).head(10)\n",
    "print(long_gaps)\n"
   ]
  },
  {
   "cell_type": "code",
   "execution_count": null,
   "id": "b895a429",
   "metadata": {},
   "outputs": [],
   "source": [
    "NOTE:\n",
    "    Your dataset actually consists of two main blocks of data:\n",
    "\n",
    "    Aug 8 -> Sep 8\n",
    "\n",
    "    Sep 8 -> Oct 8\n",
    "\n",
    "    In between, there’s a huge gap (no data at all).\n",
    "\n",
    "    That’s why when you resample, you see tons of NaNs -> because whole days are missing."
   ]
  },
  {
   "cell_type": "code",
   "execution_count": 128,
   "id": "13ba73ed",
   "metadata": {},
   "outputs": [],
   "source": [
    "#Segment the dataset\n",
    "#Split into continuous blocks (Aug → Sep, Sep → Oct) and analyze separately:\n",
    "blocks = (df2.index.to_series().diff() > \"1H\").cumsum()\n",
    "df_blocks = df2.groupby(blocks)\n"
   ]
  },
  {
   "cell_type": "code",
   "execution_count": 129,
   "id": "cd092f29",
   "metadata": {},
   "outputs": [
    {
     "data": {
      "text/plain": [
       "<AxesSubplot:xlabel='Timestamp'>"
      ]
     },
     "execution_count": 129,
     "metadata": {},
     "output_type": "execute_result"
    },
    {
     "data": {
      "image/png": "[encoded data removed]",
      "text/plain": [
       "<Figure size 864x288 with 1 Axes>"
      ]
     },
     "metadata": {
      "needs_background": "light"
     },
     "output_type": "display_data"
    }
   ],
   "source": [
    "df2.resample(\"D\")[\"Label\"].count().plot(kind=\"bar\", figsize=(12,4))\n"
   ]
  },
  {
   "cell_type": "code",
   "execution_count": 132,
   "id": "582ad7d7",
   "metadata": {},
   "outputs": [],
   "source": [
    "df1[\"Timestamp\"] = pd.to_datetime(df1[\"Date\"] + \" \" + df1[\"Time\"])\n",
    "df1 = df1.set_index(\"Timestamp\")"
   ]
  },
  {
   "cell_type": "code",
   "execution_count": 133,
   "id": "30d10f40",
   "metadata": {},
   "outputs": [
    {
     "data": {
      "text/plain": [
       "<AxesSubplot:xlabel='Timestamp'>"
      ]
     },
     "execution_count": 133,
     "metadata": {},
     "output_type": "execute_result"
    },
    {
     "data": {
      "image/png": "[encoded data removed]",
      "text/plain": [
       "<Figure size 864x288 with 1 Axes>"
      ]
     },
     "metadata": {
      "needs_background": "light"
     },
     "output_type": "display_data"
    }
   ],
   "source": [
    "df1.resample(\"D\")[\"Label\"].count().plot(kind=\"bar\", figsize=(12,4))"
   ]
  },
  {
   "cell_type": "code",
   "execution_count": null,
   "id": "8e0a22ee",
   "metadata": {},
   "outputs": [],
   "source": [
    "NOTE:\n",
    "    The logger only has data on those days.\n",
    "\n",
    "    Everything in between (Aug 9 → Sep 7, Sep 9 → Oct 7) is just empty — no rows at all.\n",
    "\n",
    "    That’s why the resample is producing 16,992 NaNs → pandas is filling every missing 5-minute slot in those 2 big empty months.\n",
    "\n",
    "     Why this happens\n",
    "\n",
    "    The data logger seems to record for one day, stop for ~30 days, then record again.\n",
    "\n",
    "    So in reality, we don’t have a continuous 2-month dataset, but three isolated single-day experiments."
   ]
  },
  {
   "cell_type": "code",
   "execution_count": 130,
   "id": "e5e47fef",
   "metadata": {},
   "outputs": [
    {
     "name": "stdout",
     "output_type": "stream",
     "text": [
      "Block 0: 2024-08-08 19:19:56 → 2024-08-08 23:59:46 (1086 rows)\n",
      "Block 1: 2024-09-08 00:00:02 → 2024-09-08 23:59:46 (5532 rows)\n",
      "Block 2: 2024-10-08 00:00:02 → 2024-10-08 04:35:21 (1033 rows)\n"
     ]
    }
   ],
   "source": [
    "# Find gaps larger than, say, 1 hour\n",
    "gaps = df2.index.to_series().diff() > pd.Timedelta(\"1H\")\n",
    "\n",
    "# Assign block IDs\n",
    "df2[\"block_id\"] = gaps.cumsum()\n",
    "\n",
    "#  groupping by block\n",
    "for block, data in df2.groupby(\"block_id\"):\n",
    "    print(f\"Block {block}: {data.index.min()} → {data.index.max()} ({len(data)} rows)\")\n"
   ]
  },
  {
   "cell_type": "code",
   "execution_count": 134,
   "id": "c2a53d5d",
   "metadata": {},
   "outputs": [],
   "source": [
    "block0 = df2[df2[\"block_id\"] == 0]   # Aug 8th\n",
    "block1 = df2[df2[\"block_id\"] == 1]   # Sep 8th\n",
    "block2 = df2[df2[\"block_id\"] == 2]   # Oct 8th\n"
   ]
  },
  {
   "cell_type": "code",
   "execution_count": 142,
   "id": "8679124e",
   "metadata": {},
   "outputs": [
    {
     "data": {
      "image/png": "[encoded data removed]",
      "text/plain": [
       "<Figure size 864x288 with 1 Axes>"
      ]
     },
     "metadata": {
      "needs_background": "light"
     },
     "output_type": "display_data"
    },
    {
     "data": {
      "image/png": "[encoded data removed]",
      "text/plain": [
       "<Figure size 864x288 with 1 Axes>"
      ]
     },
     "metadata": {
      "needs_background": "light"
     },
     "output_type": "display_data"
    },
    {
     "data": {
      "image/png": "[encoded data removed]",
      "text/plain": [
       "<Figure size 864x288 with 1 Axes>"
      ]
     },
     "metadata": {
      "needs_background": "light"
     },
     "output_type": "display_data"
    }
   ],
   "source": [
    "for i, block in enumerate([block0, block1, block2]):\n",
    "    occ_resampled = block[\"Label\"].resample(\"5T\").mean()\n",
    "\n",
    "    plt.figure(figsize=(12, 4))\n",
    "    plt.plot(occ_resampled.index, occ_resampled.values, marker=\"o\", linestyle=\"-\")\n",
    "    plt.title(f\"Occupancy Trend - Block {i}\")\n",
    "    plt.ylabel(\"Occupancy Probability\")\n",
    "    plt.xlabel(\"Time\")\n",
    "    plt.grid(True)\n",
    "    plt.show()\n",
    "\n"
   ]
  },
  {
   "cell_type": "code",
   "execution_count": 143,
   "id": "e0074ffd",
   "metadata": {},
   "outputs": [
    {
     "name": "stdout",
     "output_type": "stream",
     "text": [
      "\n",
      "--- Block 0 ---\n",
      "Start: 2024-08-08 19:19:56\n",
      "End:   2024-08-08 23:59:46\n",
      "Rows:  1086\n",
      "Occupancy counts:\n",
      " 0    967\n",
      "3    110\n",
      "1      9\n",
      "Name: Label, dtype: int64\n",
      "\n",
      "--- Block 1 ---\n",
      "Start: 2024-09-08 00:00:02\n",
      "End:   2024-09-08 23:59:46\n",
      "Rows:  5532\n",
      "Occupancy counts:\n",
      " 0    4247\n",
      "1     824\n",
      "3     461\n",
      "Name: Label, dtype: int64\n",
      "\n",
      "--- Block 2 ---\n",
      "Start: 2024-10-08 00:00:02\n",
      "End:   2024-10-08 04:35:21\n",
      "Rows:  1033\n",
      "Occupancy counts:\n",
      " 0    1033\n",
      "Name: Label, dtype: int64\n"
     ]
    }
   ],
   "source": [
    "for i, block in enumerate([block0, block1, block2]):\n",
    "    print(f\"\\n--- Block {i} ---\")\n",
    "    print(\"Start:\", block.index.min())\n",
    "    print(\"End:  \", block.index.max())\n",
    "    print(\"Rows: \", len(block))\n",
    "    print(\"Occupancy counts:\\n\", block[\"Label\"].value_counts())\n"
   ]
  },
  {
   "cell_type": "code",
   "execution_count": 149,
   "id": "452dadc6",
   "metadata": {},
   "outputs": [
    {
     "data": {
      "image/png": "[encoded data removed]",
      "text/plain": [
       "<Figure size 864x288 with 1 Axes>"
      ]
     },
     "metadata": {
      "needs_background": "light"
     },
     "output_type": "display_data"
    },
    {
     "data": {
      "image/png": "[encoded data removed]",
      "text/plain": [
       "<Figure size 864x288 with 1 Axes>"
      ]
     },
     "metadata": {
      "needs_background": "light"
     },
     "output_type": "display_data"
    },
    {
     "data": {
      "image/png": "[encoded data removed]",
      "text/plain": [
       "<Figure size 864x288 with 1 Axes>"
      ]
     },
     "metadata": {
      "needs_background": "light"
     },
     "output_type": "display_data"
    }
   ],
   "source": [
    "for i, block in enumerate([block0, block1, block2]):\n",
    "    occ_resampled = block[\"Label\"].resample(\"5T\").mean()\n",
    "    \n",
    "    plt.figure(figsize=(12,4))\n",
    "    plt.plot(block[\"Label\"], drawstyle=\"steps-post\")\n",
    "    plt.title(\"Occupancy Time Series (Raw Labels)\")\n",
    "    plt.ylabel(\"Occupancy State\")\n",
    "    plt.xlabel(\"Time\")\n",
    "    plt.show()"
   ]
  },
  {
   "cell_type": "code",
   "execution_count": 167,
   "id": "f886ec6a",
   "metadata": {},
   "outputs": [
    {
     "data": {
      "text/html": [
       "<div>\n",
       "<style scoped>\n",
       "    .dataframe tbody tr th:only-of-type {\n",
       "        vertical-align: middle;\n",
       "    }\n",
       "\n",
       "    .dataframe tbody tr th {\n",
       "        vertical-align: top;\n",
       "    }\n",
       "\n",
       "    .dataframe thead th {\n",
       "        text-align: right;\n",
       "    }\n",
       "</style>\n",
       "<table border=\"1\" class=\"dataframe\">\n",
       "  <thead>\n",
       "    <tr style=\"text-align: right;\">\n",
       "      <th></th>\n",
       "      <th>Date</th>\n",
       "      <th>Time</th>\n",
       "      <th>Label</th>\n",
       "      <th>Temperature_F</th>\n",
       "      <th>PIR_1</th>\n",
       "      <th>PIR_2</th>\n",
       "      <th>PIR_3</th>\n",
       "      <th>PIR_4</th>\n",
       "      <th>PIR_5</th>\n",
       "      <th>PIR_6</th>\n",
       "      <th>...</th>\n",
       "      <th>PIR_48</th>\n",
       "      <th>PIR_49</th>\n",
       "      <th>PIR_50</th>\n",
       "      <th>PIR_51</th>\n",
       "      <th>PIR_52</th>\n",
       "      <th>PIR_53</th>\n",
       "      <th>PIR_54</th>\n",
       "      <th>PIR_55</th>\n",
       "      <th>PIR_sum</th>\n",
       "      <th>block_id</th>\n",
       "    </tr>\n",
       "    <tr>\n",
       "      <th>Timestamp</th>\n",
       "      <th></th>\n",
       "      <th></th>\n",
       "      <th></th>\n",
       "      <th></th>\n",
       "      <th></th>\n",
       "      <th></th>\n",
       "      <th></th>\n",
       "      <th></th>\n",
       "      <th></th>\n",
       "      <th></th>\n",
       "      <th></th>\n",
       "      <th></th>\n",
       "      <th></th>\n",
       "      <th></th>\n",
       "      <th></th>\n",
       "      <th></th>\n",
       "      <th></th>\n",
       "      <th></th>\n",
       "      <th></th>\n",
       "      <th></th>\n",
       "      <th></th>\n",
       "    </tr>\n",
       "  </thead>\n",
       "  <tbody>\n",
       "    <tr>\n",
       "      <th>2024-08-08 19:19:56</th>\n",
       "      <td>2024-08-08</td>\n",
       "      <td>19:19:56</td>\n",
       "      <td>0</td>\n",
       "      <td>86</td>\n",
       "      <td>10269</td>\n",
       "      <td>10721</td>\n",
       "      <td>11156</td>\n",
       "      <td>11170</td>\n",
       "      <td>10931</td>\n",
       "      <td>10671</td>\n",
       "      <td>...</td>\n",
       "      <td>11161</td>\n",
       "      <td>11096</td>\n",
       "      <td>10957</td>\n",
       "      <td>10839</td>\n",
       "      <td>10735</td>\n",
       "      <td>10590</td>\n",
       "      <td>10411</td>\n",
       "      <td>10329</td>\n",
       "      <td>1701708</td>\n",
       "      <td>0</td>\n",
       "    </tr>\n",
       "    <tr>\n",
       "      <th>2024-08-08 19:20:12</th>\n",
       "      <td>2024-08-08</td>\n",
       "      <td>19:20:12</td>\n",
       "      <td>1</td>\n",
       "      <td>86</td>\n",
       "      <td>10364</td>\n",
       "      <td>10907</td>\n",
       "      <td>11299</td>\n",
       "      <td>11238</td>\n",
       "      <td>10867</td>\n",
       "      <td>10535</td>\n",
       "      <td>...</td>\n",
       "      <td>11136</td>\n",
       "      <td>11108</td>\n",
       "      <td>11041</td>\n",
       "      <td>10824</td>\n",
       "      <td>10645</td>\n",
       "      <td>10493</td>\n",
       "      <td>10398</td>\n",
       "      <td>10357</td>\n",
       "      <td>1704045</td>\n",
       "      <td>0</td>\n",
       "    </tr>\n",
       "    <tr>\n",
       "      <th>2024-08-08 19:20:28</th>\n",
       "      <td>2024-08-08</td>\n",
       "      <td>19:20:28</td>\n",
       "      <td>0</td>\n",
       "      <td>86</td>\n",
       "      <td>10329</td>\n",
       "      <td>10793</td>\n",
       "      <td>11197</td>\n",
       "      <td>11242</td>\n",
       "      <td>11052</td>\n",
       "      <td>10658</td>\n",
       "      <td>...</td>\n",
       "      <td>11162</td>\n",
       "      <td>11109</td>\n",
       "      <td>11007</td>\n",
       "      <td>10867</td>\n",
       "      <td>10700</td>\n",
       "      <td>10533</td>\n",
       "      <td>10427</td>\n",
       "      <td>10265</td>\n",
       "      <td>1702335</td>\n",
       "      <td>0</td>\n",
       "    </tr>\n",
       "    <tr>\n",
       "      <th>2024-08-08 19:20:44</th>\n",
       "      <td>2024-08-08</td>\n",
       "      <td>19:20:44</td>\n",
       "      <td>0</td>\n",
       "      <td>86</td>\n",
       "      <td>10169</td>\n",
       "      <td>10425</td>\n",
       "      <td>10822</td>\n",
       "      <td>11133</td>\n",
       "      <td>11136</td>\n",
       "      <td>10834</td>\n",
       "      <td>...</td>\n",
       "      <td>11186</td>\n",
       "      <td>10984</td>\n",
       "      <td>10910</td>\n",
       "      <td>10807</td>\n",
       "      <td>10714</td>\n",
       "      <td>10651</td>\n",
       "      <td>10562</td>\n",
       "      <td>10463</td>\n",
       "      <td>1701276</td>\n",
       "      <td>0</td>\n",
       "    </tr>\n",
       "    <tr>\n",
       "      <th>2024-08-08 19:21:00</th>\n",
       "      <td>2024-08-08</td>\n",
       "      <td>19:21:00</td>\n",
       "      <td>0</td>\n",
       "      <td>86</td>\n",
       "      <td>10320</td>\n",
       "      <td>10667</td>\n",
       "      <td>11104</td>\n",
       "      <td>11234</td>\n",
       "      <td>11129</td>\n",
       "      <td>10814</td>\n",
       "      <td>...</td>\n",
       "      <td>11370</td>\n",
       "      <td>11173</td>\n",
       "      <td>10924</td>\n",
       "      <td>10816</td>\n",
       "      <td>10754</td>\n",
       "      <td>10588</td>\n",
       "      <td>10428</td>\n",
       "      <td>10407</td>\n",
       "      <td>1702956</td>\n",
       "      <td>0</td>\n",
       "    </tr>\n",
       "    <tr>\n",
       "      <th>...</th>\n",
       "      <td>...</td>\n",
       "      <td>...</td>\n",
       "      <td>...</td>\n",
       "      <td>...</td>\n",
       "      <td>...</td>\n",
       "      <td>...</td>\n",
       "      <td>...</td>\n",
       "      <td>...</td>\n",
       "      <td>...</td>\n",
       "      <td>...</td>\n",
       "      <td>...</td>\n",
       "      <td>...</td>\n",
       "      <td>...</td>\n",
       "      <td>...</td>\n",
       "      <td>...</td>\n",
       "      <td>...</td>\n",
       "      <td>...</td>\n",
       "      <td>...</td>\n",
       "      <td>...</td>\n",
       "      <td>...</td>\n",
       "      <td>...</td>\n",
       "    </tr>\n",
       "    <tr>\n",
       "      <th>2024-10-08 04:34:17</th>\n",
       "      <td>2024-10-08</td>\n",
       "      <td>04:34:17</td>\n",
       "      <td>0</td>\n",
       "      <td>88</td>\n",
       "      <td>10648</td>\n",
       "      <td>11474</td>\n",
       "      <td>11989</td>\n",
       "      <td>11891</td>\n",
       "      <td>11424</td>\n",
       "      <td>10861</td>\n",
       "      <td>...</td>\n",
       "      <td>11856</td>\n",
       "      <td>11725</td>\n",
       "      <td>11562</td>\n",
       "      <td>11335</td>\n",
       "      <td>11129</td>\n",
       "      <td>10820</td>\n",
       "      <td>10599</td>\n",
       "      <td>10438</td>\n",
       "      <td>1708371</td>\n",
       "      <td>2</td>\n",
       "    </tr>\n",
       "    <tr>\n",
       "      <th>2024-10-08 04:34:33</th>\n",
       "      <td>2024-10-08</td>\n",
       "      <td>04:34:33</td>\n",
       "      <td>0</td>\n",
       "      <td>88</td>\n",
       "      <td>10412</td>\n",
       "      <td>11083</td>\n",
       "      <td>11796</td>\n",
       "      <td>12000</td>\n",
       "      <td>11612</td>\n",
       "      <td>10999</td>\n",
       "      <td>...</td>\n",
       "      <td>11912</td>\n",
       "      <td>11811</td>\n",
       "      <td>11652</td>\n",
       "      <td>11430</td>\n",
       "      <td>11103</td>\n",
       "      <td>10829</td>\n",
       "      <td>10614</td>\n",
       "      <td>10465</td>\n",
       "      <td>1706952</td>\n",
       "      <td>2</td>\n",
       "    </tr>\n",
       "    <tr>\n",
       "      <th>2024-10-08 04:34:49</th>\n",
       "      <td>2024-10-08</td>\n",
       "      <td>04:34:49</td>\n",
       "      <td>0</td>\n",
       "      <td>88</td>\n",
       "      <td>10412</td>\n",
       "      <td>10780</td>\n",
       "      <td>11555</td>\n",
       "      <td>11860</td>\n",
       "      <td>11541</td>\n",
       "      <td>11101</td>\n",
       "      <td>...</td>\n",
       "      <td>11813</td>\n",
       "      <td>11746</td>\n",
       "      <td>11573</td>\n",
       "      <td>11395</td>\n",
       "      <td>11222</td>\n",
       "      <td>11070</td>\n",
       "      <td>10909</td>\n",
       "      <td>10696</td>\n",
       "      <td>1707591</td>\n",
       "      <td>2</td>\n",
       "    </tr>\n",
       "    <tr>\n",
       "      <th>2024-10-08 04:35:05</th>\n",
       "      <td>2024-10-08</td>\n",
       "      <td>04:35:05</td>\n",
       "      <td>0</td>\n",
       "      <td>88</td>\n",
       "      <td>10697</td>\n",
       "      <td>11502</td>\n",
       "      <td>12022</td>\n",
       "      <td>11957</td>\n",
       "      <td>11436</td>\n",
       "      <td>10794</td>\n",
       "      <td>...</td>\n",
       "      <td>11898</td>\n",
       "      <td>11672</td>\n",
       "      <td>11506</td>\n",
       "      <td>11189</td>\n",
       "      <td>10866</td>\n",
       "      <td>10700</td>\n",
       "      <td>10509</td>\n",
       "      <td>10426</td>\n",
       "      <td>1707546</td>\n",
       "      <td>2</td>\n",
       "    </tr>\n",
       "    <tr>\n",
       "      <th>2024-10-08 04:35:21</th>\n",
       "      <td>2024-10-08</td>\n",
       "      <td>04:35:21</td>\n",
       "      <td>0</td>\n",
       "      <td>88</td>\n",
       "      <td>10483</td>\n",
       "      <td>11227</td>\n",
       "      <td>11897</td>\n",
       "      <td>11990</td>\n",
       "      <td>11735</td>\n",
       "      <td>11105</td>\n",
       "      <td>...</td>\n",
       "      <td>11867</td>\n",
       "      <td>11755</td>\n",
       "      <td>11545</td>\n",
       "      <td>11371</td>\n",
       "      <td>11188</td>\n",
       "      <td>10993</td>\n",
       "      <td>10738</td>\n",
       "      <td>10504</td>\n",
       "      <td>1709841</td>\n",
       "      <td>2</td>\n",
       "    </tr>\n",
       "  </tbody>\n",
       "</table>\n",
       "<p>7651 rows × 61 columns</p>\n",
       "</div>"
      ],
      "text/plain": [
       "                           Date      Time  Label  Temperature_F  PIR_1  PIR_2  \\\n",
       "Timestamp                                                                       \n",
       "2024-08-08 19:19:56  2024-08-08  19:19:56      0             86  10269  10721   \n",
       "2024-08-08 19:20:12  2024-08-08  19:20:12      1             86  10364  10907   \n",
       "2024-08-08 19:20:28  2024-08-08  19:20:28      0             86  10329  10793   \n",
       "2024-08-08 19:20:44  2024-08-08  19:20:44      0             86  10169  10425   \n",
       "2024-08-08 19:21:00  2024-08-08  19:21:00      0             86  10320  10667   \n",
       "...                         ...       ...    ...            ...    ...    ...   \n",
       "2024-10-08 04:34:17  2024-10-08  04:34:17      0             88  10648  11474   \n",
       "2024-10-08 04:34:33  2024-10-08  04:34:33      0             88  10412  11083   \n",
       "2024-10-08 04:34:49  2024-10-08  04:34:49      0             88  10412  10780   \n",
       "2024-10-08 04:35:05  2024-10-08  04:35:05      0             88  10697  11502   \n",
       "2024-10-08 04:35:21  2024-10-08  04:35:21      0             88  10483  11227   \n",
       "\n",
       "                     PIR_3  PIR_4  PIR_5  PIR_6  ...  PIR_48  PIR_49  PIR_50  \\\n",
       "Timestamp                                        ...                           \n",
       "2024-08-08 19:19:56  11156  11170  10931  10671  ...   11161   11096   10957   \n",
       "2024-08-08 19:20:12  11299  11238  10867  10535  ...   11136   11108   11041   \n",
       "2024-08-08 19:20:28  11197  11242  11052  10658  ...   11162   11109   11007   \n",
       "2024-08-08 19:20:44  10822  11133  11136  10834  ...   11186   10984   10910   \n",
       "2024-08-08 19:21:00  11104  11234  11129  10814  ...   11370   11173   10924   \n",
       "...                    ...    ...    ...    ...  ...     ...     ...     ...   \n",
       "2024-10-08 04:34:17  11989  11891  11424  10861  ...   11856   11725   11562   \n",
       "2024-10-08 04:34:33  11796  12000  11612  10999  ...   11912   11811   11652   \n",
       "2024-10-08 04:34:49  11555  11860  11541  11101  ...   11813   11746   11573   \n",
       "2024-10-08 04:35:05  12022  11957  11436  10794  ...   11898   11672   11506   \n",
       "2024-10-08 04:35:21  11897  11990  11735  11105  ...   11867   11755   11545   \n",
       "\n",
       "                     PIR_51  PIR_52  PIR_53  PIR_54  PIR_55  PIR_sum  block_id  \n",
       "Timestamp                                                                       \n",
       "2024-08-08 19:19:56   10839   10735   10590   10411   10329  1701708         0  \n",
       "2024-08-08 19:20:12   10824   10645   10493   10398   10357  1704045         0  \n",
       "2024-08-08 19:20:28   10867   10700   10533   10427   10265  1702335         0  \n",
       "2024-08-08 19:20:44   10807   10714   10651   10562   10463  1701276         0  \n",
       "2024-08-08 19:21:00   10816   10754   10588   10428   10407  1702956         0  \n",
       "...                     ...     ...     ...     ...     ...      ...       ...  \n",
       "2024-10-08 04:34:17   11335   11129   10820   10599   10438  1708371         2  \n",
       "2024-10-08 04:34:33   11430   11103   10829   10614   10465  1706952         2  \n",
       "2024-10-08 04:34:49   11395   11222   11070   10909   10696  1707591         2  \n",
       "2024-10-08 04:35:05   11189   10866   10700   10509   10426  1707546         2  \n",
       "2024-10-08 04:35:21   11371   11188   10993   10738   10504  1709841         2  \n",
       "\n",
       "[7651 rows x 61 columns]"
      ]
     },
     "execution_count": 167,
     "metadata": {},
     "output_type": "execute_result"
    }
   ],
   "source": [
    "\n",
    "\n",
    "df_all = pd.concat([block0, block1, block2])\n",
    "df_all = df_all.sort_index()  # sort by Timestamp just in case\n",
    "df_all\n"
   ]
  },
  {
   "cell_type": "code",
   "execution_count": null,
   "id": "00b2e26c",
   "metadata": {},
   "outputs": [],
   "source": []
  }
 ],
 "metadata": {
  "kernelspec": {
   "display_name": "Python 3 (ipykernel)",
   "language": "python",
   "name": "python3"
  },
  "language_info": {
   "codemirror_mode": {
    "name": "ipython",
    "version": 3
   },
   "file_extension": ".py",
   "mimetype": "text/x-python",
   "name": "python",
   "nbconvert_exporter": "python",
   "pygments_lexer": "ipython3",
   "version": "3.9.7"
  }
 },
 "nbformat": 4,
 "nbformat_minor": 5
}
